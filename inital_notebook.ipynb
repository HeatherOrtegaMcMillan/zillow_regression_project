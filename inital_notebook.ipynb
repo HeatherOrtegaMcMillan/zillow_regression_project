{
 "cells": [
  {
   "cell_type": "markdown",
   "id": "70654ddd-5502-4aaf-a84f-a054f750fd01",
   "metadata": {},
   "source": [
    "# Zillow Regression Project "
   ]
  },
  {
   "cell_type": "code",
   "execution_count": 34,
   "id": "2824ce7b-83dc-428a-8c8a-6bc0a4f2fedb",
   "metadata": {},
   "outputs": [],
   "source": [
    "import pandas as pd\n",
    "import numpy as np\n",
    "import math\n",
    "import matplotlib.pyplot as plt\n",
    "import seaborn as sns\n",
    "import datetime\n",
    "\n",
    "from pydataset import data\n",
    "\n",
    "import wrangle as w\n",
    "import explore as ex\n",
    "import evaluate as ev\n",
    "\n",
    "from sklearn.linear_model import LinearRegression, LassoLars, TweedieRegressor\n",
    "from sklearn.tree import DecisionTreeRegressor\n",
    "from sklearn.feature_selection import SelectKBest, f_regression, RFE\n",
    "from sklearn.preprocessing import MinMaxScaler\n",
    "from sklearn.metrics import mean_squared_error, r2_score\n",
    "\n",
    "import warnings\n",
    "warnings.filterwarnings(\"ignore\")"
   ]
  },
  {
   "cell_type": "code",
   "execution_count": 2,
   "id": "16d0961c-2766-441b-881b-93d55b856c04",
   "metadata": {},
   "outputs": [
    {
     "data": {
      "text/html": [
       "<svg  width=\"275\" height=\"55\"><rect x=\"0\" y=\"0\" width=\"55\" height=\"55\" style=\"fill:#1277e1;stroke-width:2;stroke:rgb(255,255,255)\"/><rect x=\"55\" y=\"0\" width=\"55\" height=\"55\" style=\"fill:#f3ad35;stroke-width:2;stroke:rgb(255,255,255)\"/><rect x=\"110\" y=\"0\" width=\"55\" height=\"55\" style=\"fill:#0b449c;stroke-width:2;stroke:rgb(255,255,255)\"/><rect x=\"165\" y=\"0\" width=\"55\" height=\"55\" style=\"fill:#5289e4;stroke-width:2;stroke:rgb(255,255,255)\"/><rect x=\"220\" y=\"0\" width=\"55\" height=\"55\" style=\"fill:#c3eafb;stroke-width:2;stroke:rgb(255,255,255)\"/></svg>"
      ],
      "text/plain": [
       "[(0.07058823529411765, 0.4666666666666667, 0.8823529411764706),\n",
       " (0.9529411764705882, 0.6784313725490196, 0.20784313725490197),\n",
       " (0.043137254901960784, 0.26666666666666666, 0.611764705882353),\n",
       " (0.3215686274509804, 0.5372549019607843, 0.8941176470588236),\n",
       " (0.7647058823529411, 0.9176470588235294, 0.984313725490196)]"
      ]
     },
     "execution_count": 2,
     "metadata": {},
     "output_type": "execute_result"
    }
   ],
   "source": [
    "# set and use zillow color palette\n",
    "zpalette = ['#1277e1', '#f3ad35', '#0b449c', '#5289e4', '#c3eafb']\n",
    "sns.set_palette(zpalette)\n",
    "sns.color_palette()"
   ]
  },
  {
   "cell_type": "code",
   "execution_count": 3,
   "id": "ed3a1cad-d20d-49b8-8a2d-68102af6e91a",
   "metadata": {},
   "outputs": [],
   "source": [
    "# set continous palette \n",
    "z_contpalette = ['#c3eafb', '#74acfc', '#5289e4', '#448cfc', '#126cfa']\n",
    "\n",
    "# I think you can also do a colormap between two colors as well"
   ]
  },
  {
   "cell_type": "code",
   "execution_count": 4,
   "id": "dfb1024c-982d-45ad-ace0-7ccc661dc2ef",
   "metadata": {},
   "outputs": [
    {
     "data": {
      "text/html": [
       "<svg  width=\"275\" height=\"55\"><rect x=\"0\" y=\"0\" width=\"55\" height=\"55\" style=\"fill:#c3eafb;stroke-width:2;stroke:rgb(255,255,255)\"/><rect x=\"55\" y=\"0\" width=\"55\" height=\"55\" style=\"fill:#74acfc;stroke-width:2;stroke:rgb(255,255,255)\"/><rect x=\"110\" y=\"0\" width=\"55\" height=\"55\" style=\"fill:#5289e4;stroke-width:2;stroke:rgb(255,255,255)\"/><rect x=\"165\" y=\"0\" width=\"55\" height=\"55\" style=\"fill:#448cfc;stroke-width:2;stroke:rgb(255,255,255)\"/><rect x=\"220\" y=\"0\" width=\"55\" height=\"55\" style=\"fill:#126cfa;stroke-width:2;stroke:rgb(255,255,255)\"/></svg>"
      ],
      "text/plain": [
       "[(0.7647058823529411, 0.9176470588235294, 0.984313725490196),\n",
       " (0.4549019607843137, 0.6745098039215687, 0.9882352941176471),\n",
       " (0.3215686274509804, 0.5372549019607843, 0.8941176470588236),\n",
       " (0.26666666666666666, 0.5490196078431373, 0.9882352941176471),\n",
       " (0.07058823529411765, 0.4235294117647059, 0.9803921568627451)]"
      ]
     },
     "execution_count": 4,
     "metadata": {},
     "output_type": "execute_result"
    }
   ],
   "source": [
    "sns.color_palette(z_contpalette)"
   ]
  },
  {
   "cell_type": "markdown",
   "id": "7c3fcbef-59b3-4f09-9573-234cbc8b7fb2",
   "metadata": {},
   "source": [
    "<hr style=\"border-top: 10px groove #1277e1; margin-top: 1px; margin-bottom: 1px\"></hr>\n",
    "\n",
    "## Acquire / Prepare\n",
    "#### Goals\n",
    "- get data \n",
    "- look at and deal with nulls and duplicates\n",
    "- understand what I'm looking at"
   ]
  },
  {
   "cell_type": "code",
   "execution_count": 5,
   "id": "912e69e5-f4ca-4b78-b68f-dbcb7f94cb33",
   "metadata": {},
   "outputs": [],
   "source": [
    "# get data using sql query and wrangle function\n",
    "\n",
    "df = w.get_zillow_data()"
   ]
  },
  {
   "cell_type": "code",
   "execution_count": 6,
   "id": "d48e2f75-86b2-4b11-af70-1597e5ed1ce8",
   "metadata": {},
   "outputs": [
    {
     "data": {
      "text/html": [
       "<div>\n",
       "<style scoped>\n",
       "    .dataframe tbody tr th:only-of-type {\n",
       "        vertical-align: middle;\n",
       "    }\n",
       "\n",
       "    .dataframe tbody tr th {\n",
       "        vertical-align: top;\n",
       "    }\n",
       "\n",
       "    .dataframe thead th {\n",
       "        text-align: right;\n",
       "    }\n",
       "</style>\n",
       "<table border=\"1\" class=\"dataframe\">\n",
       "  <thead>\n",
       "    <tr style=\"text-align: right;\">\n",
       "      <th></th>\n",
       "      <th>parcel_id</th>\n",
       "      <th>tax_value</th>\n",
       "      <th>bathroom_cnt</th>\n",
       "      <th>bedroom_cnt</th>\n",
       "      <th>sqft_calculated</th>\n",
       "      <th>fips</th>\n",
       "      <th>tax_amount</th>\n",
       "      <th>transaction_date</th>\n",
       "    </tr>\n",
       "  </thead>\n",
       "  <tbody>\n",
       "    <tr>\n",
       "      <th>0</th>\n",
       "      <td>11721753</td>\n",
       "      <td>205123.0</td>\n",
       "      <td>2.0</td>\n",
       "      <td>3.0</td>\n",
       "      <td>1316.0</td>\n",
       "      <td>6037.0</td>\n",
       "      <td>2627.48</td>\n",
       "      <td>2017-07-21</td>\n",
       "    </tr>\n",
       "    <tr>\n",
       "      <th>1</th>\n",
       "      <td>11289917</td>\n",
       "      <td>136104.0</td>\n",
       "      <td>2.0</td>\n",
       "      <td>3.0</td>\n",
       "      <td>1458.0</td>\n",
       "      <td>6037.0</td>\n",
       "      <td>2319.90</td>\n",
       "      <td>2017-06-23</td>\n",
       "    </tr>\n",
       "    <tr>\n",
       "      <th>2</th>\n",
       "      <td>11705026</td>\n",
       "      <td>35606.0</td>\n",
       "      <td>1.0</td>\n",
       "      <td>2.0</td>\n",
       "      <td>1421.0</td>\n",
       "      <td>6037.0</td>\n",
       "      <td>543.69</td>\n",
       "      <td>2017-06-30</td>\n",
       "    </tr>\n",
       "    <tr>\n",
       "      <th>3</th>\n",
       "      <td>14269464</td>\n",
       "      <td>880456.0</td>\n",
       "      <td>3.0</td>\n",
       "      <td>4.0</td>\n",
       "      <td>2541.0</td>\n",
       "      <td>6059.0</td>\n",
       "      <td>9819.72</td>\n",
       "      <td>2017-06-01</td>\n",
       "    </tr>\n",
       "    <tr>\n",
       "      <th>4</th>\n",
       "      <td>11446756</td>\n",
       "      <td>107110.0</td>\n",
       "      <td>2.0</td>\n",
       "      <td>3.0</td>\n",
       "      <td>1491.0</td>\n",
       "      <td>6037.0</td>\n",
       "      <td>1399.27</td>\n",
       "      <td>2017-08-23</td>\n",
       "    </tr>\n",
       "  </tbody>\n",
       "</table>\n",
       "</div>"
      ],
      "text/plain": [
       "   parcel_id  tax_value  bathroom_cnt  bedroom_cnt  sqft_calculated    fips  \\\n",
       "0   11721753   205123.0           2.0          3.0           1316.0  6037.0   \n",
       "1   11289917   136104.0           2.0          3.0           1458.0  6037.0   \n",
       "2   11705026    35606.0           1.0          2.0           1421.0  6037.0   \n",
       "3   14269464   880456.0           3.0          4.0           2541.0  6059.0   \n",
       "4   11446756   107110.0           2.0          3.0           1491.0  6037.0   \n",
       "\n",
       "   tax_amount transaction_date  \n",
       "0     2627.48       2017-07-21  \n",
       "1     2319.90       2017-06-23  \n",
       "2      543.69       2017-06-30  \n",
       "3     9819.72       2017-06-01  \n",
       "4     1399.27       2017-08-23  "
      ]
     },
     "execution_count": 6,
     "metadata": {},
     "output_type": "execute_result"
    }
   ],
   "source": [
    "# take a peak at data\n",
    "df.head()"
   ]
  },
  {
   "cell_type": "code",
   "execution_count": 7,
   "id": "a8b555ba-5962-407f-b012-dd2d3d715b0c",
   "metadata": {},
   "outputs": [
    {
     "name": "stdout",
     "output_type": "stream",
     "text": [
      "<class 'pandas.core.frame.DataFrame'>\n",
      "Int64Index: 28124 entries, 0 to 28123\n",
      "Data columns (total 8 columns):\n",
      " #   Column            Non-Null Count  Dtype  \n",
      "---  ------            --------------  -----  \n",
      " 0   parcel_id         28124 non-null  int64  \n",
      " 1   tax_value         28123 non-null  float64\n",
      " 2   bathroom_cnt      28124 non-null  float64\n",
      " 3   bedroom_cnt       28124 non-null  float64\n",
      " 4   sqft_calculated   28077 non-null  float64\n",
      " 5   fips              28124 non-null  float64\n",
      " 6   tax_amount        28123 non-null  float64\n",
      " 7   transaction_date  28124 non-null  object \n",
      "dtypes: float64(6), int64(1), object(1)\n",
      "memory usage: 1.9+ MB\n"
     ]
    }
   ],
   "source": [
    "# look at column info see if there's anything need to change as far as types\n",
    "# can see some nulls\n",
    "# need to change date to a datetime object \n",
    "df.info()"
   ]
  },
  {
   "cell_type": "code",
   "execution_count": 42,
   "id": "3f5efd70-2a3d-4aea-98b7-82adbf4e8a61",
   "metadata": {},
   "outputs": [],
   "source": [
    "# change transaction_date to datetime object\n",
    "# line is in wrangle.py\n",
    "df['transaction_date'] = pd.to_datetime(df.transaction_date)"
   ]
  },
  {
   "cell_type": "code",
   "execution_count": 43,
   "id": "61fd0c2b-97ee-431f-9e4b-bf5bf410cf64",
   "metadata": {},
   "outputs": [
    {
     "data": {
      "text/plain": [
       "dtype('<M8[ns]')"
      ]
     },
     "execution_count": 43,
     "metadata": {},
     "output_type": "execute_result"
    }
   ],
   "source": [
    "df.transaction_date.dtypes"
   ]
  },
  {
   "cell_type": "code",
   "execution_count": 8,
   "id": "ab5bc4fb-e9e0-40b6-ba22-597df06bca73",
   "metadata": {},
   "outputs": [
    {
     "data": {
      "text/plain": [
       "False    28124\n",
       "dtype: int64"
      ]
     },
     "execution_count": 8,
     "metadata": {},
     "output_type": "execute_result"
    }
   ],
   "source": [
    "df.duplicated().value_counts()"
   ]
  },
  {
   "cell_type": "code",
   "execution_count": 9,
   "id": "f87059a0-9700-4593-859f-1a10992a4219",
   "metadata": {},
   "outputs": [
    {
     "name": "stdout",
     "output_type": "stream",
     "text": [
      "Your selected dataframe has 8 columns.\n",
      "There are 3 columns that have missing values.\n"
     ]
    },
    {
     "data": {
      "text/html": [
       "<div>\n",
       "<style scoped>\n",
       "    .dataframe tbody tr th:only-of-type {\n",
       "        vertical-align: middle;\n",
       "    }\n",
       "\n",
       "    .dataframe tbody tr th {\n",
       "        vertical-align: top;\n",
       "    }\n",
       "\n",
       "    .dataframe thead th {\n",
       "        text-align: right;\n",
       "    }\n",
       "</style>\n",
       "<table border=\"1\" class=\"dataframe\">\n",
       "  <thead>\n",
       "    <tr style=\"text-align: right;\">\n",
       "      <th></th>\n",
       "      <th>Missing Values</th>\n",
       "      <th>% of Total Values</th>\n",
       "    </tr>\n",
       "  </thead>\n",
       "  <tbody>\n",
       "    <tr>\n",
       "      <th>sqft_calculated</th>\n",
       "      <td>47</td>\n",
       "      <td>0.2</td>\n",
       "    </tr>\n",
       "    <tr>\n",
       "      <th>tax_value</th>\n",
       "      <td>1</td>\n",
       "      <td>0.0</td>\n",
       "    </tr>\n",
       "    <tr>\n",
       "      <th>tax_amount</th>\n",
       "      <td>1</td>\n",
       "      <td>0.0</td>\n",
       "    </tr>\n",
       "  </tbody>\n",
       "</table>\n",
       "</div>"
      ],
      "text/plain": [
       "                 Missing Values  % of Total Values\n",
       "sqft_calculated              47                0.2\n",
       "tax_value                     1                0.0\n",
       "tax_amount                    1                0.0"
      ]
     },
     "execution_count": 9,
     "metadata": {},
     "output_type": "execute_result"
    }
   ],
   "source": [
    "w.missing_values_table(df)"
   ]
  },
  {
   "cell_type": "markdown",
   "id": "987bf991-62c3-44ae-b3cd-81c388f6ebef",
   "metadata": {},
   "source": [
    "#### Takeaways Nulls / Dupes\n",
    "- There are no duplicates! \n",
    "- Not too many missing values. Will probably drop them. But will take a look at the columns individually\n",
    "- 47 sqft missing - DROP\n",
    "- 1 tax_value - DROP\n",
    "- 1 tax_amount DROP (thought about keeping it just for modeling and throwing it out for county tax info but it's just 1 row)"
   ]
  },
  {
   "cell_type": "code",
   "execution_count": 10,
   "id": "c38a7678-175d-4806-8217-c9b4bfdca617",
   "metadata": {},
   "outputs": [
    {
     "data": {
      "text/html": [
       "<div>\n",
       "<style scoped>\n",
       "    .dataframe tbody tr th:only-of-type {\n",
       "        vertical-align: middle;\n",
       "    }\n",
       "\n",
       "    .dataframe tbody tr th {\n",
       "        vertical-align: top;\n",
       "    }\n",
       "\n",
       "    .dataframe thead th {\n",
       "        text-align: right;\n",
       "    }\n",
       "</style>\n",
       "<table border=\"1\" class=\"dataframe\">\n",
       "  <thead>\n",
       "    <tr style=\"text-align: right;\">\n",
       "      <th></th>\n",
       "      <th>parcel_id</th>\n",
       "      <th>tax_value</th>\n",
       "      <th>bathroom_cnt</th>\n",
       "      <th>bedroom_cnt</th>\n",
       "      <th>sqft_calculated</th>\n",
       "      <th>fips</th>\n",
       "      <th>tax_amount</th>\n",
       "      <th>transaction_date</th>\n",
       "    </tr>\n",
       "  </thead>\n",
       "  <tbody>\n",
       "    <tr>\n",
       "      <th>54</th>\n",
       "      <td>14430658</td>\n",
       "      <td>5346951.0</td>\n",
       "      <td>0.0</td>\n",
       "      <td>0.0</td>\n",
       "      <td>NaN</td>\n",
       "      <td>6059.0</td>\n",
       "      <td>82484.04</td>\n",
       "      <td>2017-08-25</td>\n",
       "    </tr>\n",
       "    <tr>\n",
       "      <th>325</th>\n",
       "      <td>14466991</td>\n",
       "      <td>2493444.0</td>\n",
       "      <td>0.0</td>\n",
       "      <td>0.0</td>\n",
       "      <td>NaN</td>\n",
       "      <td>6059.0</td>\n",
       "      <td>25740.28</td>\n",
       "      <td>2017-05-01</td>\n",
       "    </tr>\n",
       "    <tr>\n",
       "      <th>968</th>\n",
       "      <td>13972530</td>\n",
       "      <td>270009.0</td>\n",
       "      <td>0.0</td>\n",
       "      <td>0.0</td>\n",
       "      <td>NaN</td>\n",
       "      <td>6059.0</td>\n",
       "      <td>3230.88</td>\n",
       "      <td>2017-05-04</td>\n",
       "    </tr>\n",
       "    <tr>\n",
       "      <th>969</th>\n",
       "      <td>14325627</td>\n",
       "      <td>7074075.0</td>\n",
       "      <td>0.0</td>\n",
       "      <td>0.0</td>\n",
       "      <td>NaN</td>\n",
       "      <td>6059.0</td>\n",
       "      <td>81640.56</td>\n",
       "      <td>2017-05-04</td>\n",
       "    </tr>\n",
       "    <tr>\n",
       "      <th>988</th>\n",
       "      <td>12686981</td>\n",
       "      <td>5461875.0</td>\n",
       "      <td>0.0</td>\n",
       "      <td>0.0</td>\n",
       "      <td>NaN</td>\n",
       "      <td>6037.0</td>\n",
       "      <td>60905.26</td>\n",
       "      <td>2017-05-04</td>\n",
       "    </tr>\n",
       "    <tr>\n",
       "      <th>2679</th>\n",
       "      <td>12131538</td>\n",
       "      <td>225126.0</td>\n",
       "      <td>0.0</td>\n",
       "      <td>0.0</td>\n",
       "      <td>NaN</td>\n",
       "      <td>6037.0</td>\n",
       "      <td>2736.14</td>\n",
       "      <td>2017-05-11</td>\n",
       "    </tr>\n",
       "    <tr>\n",
       "      <th>4148</th>\n",
       "      <td>17292027</td>\n",
       "      <td>3210155.0</td>\n",
       "      <td>0.0</td>\n",
       "      <td>0.0</td>\n",
       "      <td>NaN</td>\n",
       "      <td>6111.0</td>\n",
       "      <td>34159.22</td>\n",
       "      <td>2017-05-18</td>\n",
       "    </tr>\n",
       "    <tr>\n",
       "      <th>5232</th>\n",
       "      <td>12920381</td>\n",
       "      <td>352000.0</td>\n",
       "      <td>2.0</td>\n",
       "      <td>3.0</td>\n",
       "      <td>944.0</td>\n",
       "      <td>6037.0</td>\n",
       "      <td>NaN</td>\n",
       "      <td>2017-05-24</td>\n",
       "    </tr>\n",
       "    <tr>\n",
       "      <th>5605</th>\n",
       "      <td>14430787</td>\n",
       "      <td>5126781.0</td>\n",
       "      <td>0.0</td>\n",
       "      <td>0.0</td>\n",
       "      <td>NaN</td>\n",
       "      <td>6059.0</td>\n",
       "      <td>80251.50</td>\n",
       "      <td>2017-05-25</td>\n",
       "    </tr>\n",
       "    <tr>\n",
       "      <th>6637</th>\n",
       "      <td>17267536</td>\n",
       "      <td>26237.0</td>\n",
       "      <td>0.0</td>\n",
       "      <td>0.0</td>\n",
       "      <td>NaN</td>\n",
       "      <td>6111.0</td>\n",
       "      <td>302.94</td>\n",
       "      <td>2017-05-30</td>\n",
       "    </tr>\n",
       "    <tr>\n",
       "      <th>6994</th>\n",
       "      <td>167687839</td>\n",
       "      <td>1842678.0</td>\n",
       "      <td>0.0</td>\n",
       "      <td>0.0</td>\n",
       "      <td>NaN</td>\n",
       "      <td>6037.0</td>\n",
       "      <td>22045.81</td>\n",
       "      <td>2017-05-31</td>\n",
       "    </tr>\n",
       "    <tr>\n",
       "      <th>8568</th>\n",
       "      <td>12528751</td>\n",
       "      <td>1289097.0</td>\n",
       "      <td>0.0</td>\n",
       "      <td>0.0</td>\n",
       "      <td>NaN</td>\n",
       "      <td>6037.0</td>\n",
       "      <td>15056.50</td>\n",
       "      <td>2017-06-06</td>\n",
       "    </tr>\n",
       "    <tr>\n",
       "      <th>9011</th>\n",
       "      <td>14466726</td>\n",
       "      <td>1558090.0</td>\n",
       "      <td>0.0</td>\n",
       "      <td>0.0</td>\n",
       "      <td>NaN</td>\n",
       "      <td>6059.0</td>\n",
       "      <td>16239.54</td>\n",
       "      <td>2017-06-08</td>\n",
       "    </tr>\n",
       "    <tr>\n",
       "      <th>9657</th>\n",
       "      <td>12055162</td>\n",
       "      <td>406100.0</td>\n",
       "      <td>0.0</td>\n",
       "      <td>0.0</td>\n",
       "      <td>NaN</td>\n",
       "      <td>6037.0</td>\n",
       "      <td>4526.60</td>\n",
       "      <td>2017-06-12</td>\n",
       "    </tr>\n",
       "    <tr>\n",
       "      <th>9851</th>\n",
       "      <td>14326442</td>\n",
       "      <td>3136161.0</td>\n",
       "      <td>0.0</td>\n",
       "      <td>0.0</td>\n",
       "      <td>NaN</td>\n",
       "      <td>6059.0</td>\n",
       "      <td>38260.82</td>\n",
       "      <td>2017-06-13</td>\n",
       "    </tr>\n",
       "    <tr>\n",
       "      <th>11074</th>\n",
       "      <td>14237996</td>\n",
       "      <td>626497.0</td>\n",
       "      <td>0.0</td>\n",
       "      <td>0.0</td>\n",
       "      <td>NaN</td>\n",
       "      <td>6059.0</td>\n",
       "      <td>6951.30</td>\n",
       "      <td>2017-06-16</td>\n",
       "    </tr>\n",
       "    <tr>\n",
       "      <th>11304</th>\n",
       "      <td>14359299</td>\n",
       "      <td>1244873.0</td>\n",
       "      <td>0.0</td>\n",
       "      <td>0.0</td>\n",
       "      <td>NaN</td>\n",
       "      <td>6059.0</td>\n",
       "      <td>22416.08</td>\n",
       "      <td>2017-06-19</td>\n",
       "    </tr>\n",
       "    <tr>\n",
       "      <th>11599</th>\n",
       "      <td>13889651</td>\n",
       "      <td>125714.0</td>\n",
       "      <td>0.0</td>\n",
       "      <td>0.0</td>\n",
       "      <td>NaN</td>\n",
       "      <td>6059.0</td>\n",
       "      <td>1339.68</td>\n",
       "      <td>2017-06-20</td>\n",
       "    </tr>\n",
       "    <tr>\n",
       "      <th>11903</th>\n",
       "      <td>13889433</td>\n",
       "      <td>1941143.0</td>\n",
       "      <td>0.0</td>\n",
       "      <td>0.0</td>\n",
       "      <td>NaN</td>\n",
       "      <td>6059.0</td>\n",
       "      <td>21343.18</td>\n",
       "      <td>2017-06-21</td>\n",
       "    </tr>\n",
       "    <tr>\n",
       "      <th>12189</th>\n",
       "      <td>13865064</td>\n",
       "      <td>2231097.0</td>\n",
       "      <td>0.0</td>\n",
       "      <td>0.0</td>\n",
       "      <td>NaN</td>\n",
       "      <td>6059.0</td>\n",
       "      <td>24296.84</td>\n",
       "      <td>2017-06-22</td>\n",
       "    </tr>\n",
       "    <tr>\n",
       "      <th>12360</th>\n",
       "      <td>14469211</td>\n",
       "      <td>970000.0</td>\n",
       "      <td>0.0</td>\n",
       "      <td>0.0</td>\n",
       "      <td>NaN</td>\n",
       "      <td>6059.0</td>\n",
       "      <td>13389.68</td>\n",
       "      <td>2017-06-22</td>\n",
       "    </tr>\n",
       "    <tr>\n",
       "      <th>12573</th>\n",
       "      <td>11496648</td>\n",
       "      <td>957014.0</td>\n",
       "      <td>0.0</td>\n",
       "      <td>0.0</td>\n",
       "      <td>NaN</td>\n",
       "      <td>6037.0</td>\n",
       "      <td>11241.43</td>\n",
       "      <td>2017-06-23</td>\n",
       "    </tr>\n",
       "    <tr>\n",
       "      <th>13315</th>\n",
       "      <td>14166728</td>\n",
       "      <td>1608894.0</td>\n",
       "      <td>0.0</td>\n",
       "      <td>0.0</td>\n",
       "      <td>NaN</td>\n",
       "      <td>6059.0</td>\n",
       "      <td>18203.58</td>\n",
       "      <td>2017-06-27</td>\n",
       "    </tr>\n",
       "    <tr>\n",
       "      <th>13847</th>\n",
       "      <td>11640641</td>\n",
       "      <td>2077940.0</td>\n",
       "      <td>0.0</td>\n",
       "      <td>0.0</td>\n",
       "      <td>NaN</td>\n",
       "      <td>6037.0</td>\n",
       "      <td>25594.26</td>\n",
       "      <td>2017-06-28</td>\n",
       "    </tr>\n",
       "    <tr>\n",
       "      <th>13885</th>\n",
       "      <td>11486198</td>\n",
       "      <td>900820.0</td>\n",
       "      <td>0.0</td>\n",
       "      <td>0.0</td>\n",
       "      <td>NaN</td>\n",
       "      <td>6037.0</td>\n",
       "      <td>10627.31</td>\n",
       "      <td>2017-06-29</td>\n",
       "    </tr>\n",
       "    <tr>\n",
       "      <th>15035</th>\n",
       "      <td>12179038</td>\n",
       "      <td>177668.0</td>\n",
       "      <td>0.0</td>\n",
       "      <td>0.0</td>\n",
       "      <td>NaN</td>\n",
       "      <td>6037.0</td>\n",
       "      <td>2182.49</td>\n",
       "      <td>2017-06-30</td>\n",
       "    </tr>\n",
       "    <tr>\n",
       "      <th>15917</th>\n",
       "      <td>14334030</td>\n",
       "      <td>1352225.0</td>\n",
       "      <td>0.0</td>\n",
       "      <td>0.0</td>\n",
       "      <td>NaN</td>\n",
       "      <td>6059.0</td>\n",
       "      <td>15068.84</td>\n",
       "      <td>2017-07-07</td>\n",
       "    </tr>\n",
       "    <tr>\n",
       "      <th>15923</th>\n",
       "      <td>17144925</td>\n",
       "      <td>7771.0</td>\n",
       "      <td>0.0</td>\n",
       "      <td>0.0</td>\n",
       "      <td>NaN</td>\n",
       "      <td>6111.0</td>\n",
       "      <td>106.32</td>\n",
       "      <td>2017-07-07</td>\n",
       "    </tr>\n",
       "    <tr>\n",
       "      <th>15942</th>\n",
       "      <td>14130381</td>\n",
       "      <td>71071.0</td>\n",
       "      <td>0.0</td>\n",
       "      <td>0.0</td>\n",
       "      <td>NaN</td>\n",
       "      <td>6059.0</td>\n",
       "      <td>1270.64</td>\n",
       "      <td>2017-07-07</td>\n",
       "    </tr>\n",
       "    <tr>\n",
       "      <th>16309</th>\n",
       "      <td>13883088</td>\n",
       "      <td>297730.0</td>\n",
       "      <td>0.0</td>\n",
       "      <td>0.0</td>\n",
       "      <td>NaN</td>\n",
       "      <td>6059.0</td>\n",
       "      <td>3677.40</td>\n",
       "      <td>2017-07-07</td>\n",
       "    </tr>\n",
       "    <tr>\n",
       "      <th>17731</th>\n",
       "      <td>11905745</td>\n",
       "      <td>393502.0</td>\n",
       "      <td>0.0</td>\n",
       "      <td>0.0</td>\n",
       "      <td>NaN</td>\n",
       "      <td>6037.0</td>\n",
       "      <td>4767.60</td>\n",
       "      <td>2017-07-14</td>\n",
       "    </tr>\n",
       "    <tr>\n",
       "      <th>17999</th>\n",
       "      <td>13938095</td>\n",
       "      <td>2138324.0</td>\n",
       "      <td>0.0</td>\n",
       "      <td>0.0</td>\n",
       "      <td>NaN</td>\n",
       "      <td>6059.0</td>\n",
       "      <td>22118.08</td>\n",
       "      <td>2017-07-17</td>\n",
       "    </tr>\n",
       "    <tr>\n",
       "      <th>18586</th>\n",
       "      <td>17061055</td>\n",
       "      <td>1397372.0</td>\n",
       "      <td>0.0</td>\n",
       "      <td>0.0</td>\n",
       "      <td>NaN</td>\n",
       "      <td>6111.0</td>\n",
       "      <td>14936.90</td>\n",
       "      <td>2017-07-19</td>\n",
       "    </tr>\n",
       "    <tr>\n",
       "      <th>18935</th>\n",
       "      <td>12231506</td>\n",
       "      <td>315000.0</td>\n",
       "      <td>0.0</td>\n",
       "      <td>0.0</td>\n",
       "      <td>NaN</td>\n",
       "      <td>6037.0</td>\n",
       "      <td>3971.16</td>\n",
       "      <td>2017-07-20</td>\n",
       "    </tr>\n",
       "    <tr>\n",
       "      <th>18974</th>\n",
       "      <td>14175793</td>\n",
       "      <td>257569.0</td>\n",
       "      <td>0.0</td>\n",
       "      <td>0.0</td>\n",
       "      <td>NaN</td>\n",
       "      <td>6059.0</td>\n",
       "      <td>2990.66</td>\n",
       "      <td>2017-07-20</td>\n",
       "    </tr>\n",
       "    <tr>\n",
       "      <th>19043</th>\n",
       "      <td>17296474</td>\n",
       "      <td>1461048.0</td>\n",
       "      <td>4.5</td>\n",
       "      <td>5.0</td>\n",
       "      <td>NaN</td>\n",
       "      <td>6111.0</td>\n",
       "      <td>15893.18</td>\n",
       "      <td>2017-07-21</td>\n",
       "    </tr>\n",
       "    <tr>\n",
       "      <th>20344</th>\n",
       "      <td>17188862</td>\n",
       "      <td>249000.0</td>\n",
       "      <td>0.0</td>\n",
       "      <td>0.0</td>\n",
       "      <td>NaN</td>\n",
       "      <td>6111.0</td>\n",
       "      <td>2727.50</td>\n",
       "      <td>2017-07-27</td>\n",
       "    </tr>\n",
       "    <tr>\n",
       "      <th>20367</th>\n",
       "      <td>14435352</td>\n",
       "      <td>845521.0</td>\n",
       "      <td>0.0</td>\n",
       "      <td>0.0</td>\n",
       "      <td>NaN</td>\n",
       "      <td>6059.0</td>\n",
       "      <td>8576.32</td>\n",
       "      <td>2017-07-27</td>\n",
       "    </tr>\n",
       "    <tr>\n",
       "      <th>20536</th>\n",
       "      <td>13982469</td>\n",
       "      <td>3587583.0</td>\n",
       "      <td>0.0</td>\n",
       "      <td>0.0</td>\n",
       "      <td>NaN</td>\n",
       "      <td>6059.0</td>\n",
       "      <td>37635.88</td>\n",
       "      <td>2017-07-28</td>\n",
       "    </tr>\n",
       "    <tr>\n",
       "      <th>21175</th>\n",
       "      <td>14006983</td>\n",
       "      <td>NaN</td>\n",
       "      <td>2.0</td>\n",
       "      <td>4.0</td>\n",
       "      <td>1197.0</td>\n",
       "      <td>6059.0</td>\n",
       "      <td>388.18</td>\n",
       "      <td>2017-07-31</td>\n",
       "    </tr>\n",
       "    <tr>\n",
       "      <th>21551</th>\n",
       "      <td>17162301</td>\n",
       "      <td>186771.0</td>\n",
       "      <td>0.0</td>\n",
       "      <td>0.0</td>\n",
       "      <td>NaN</td>\n",
       "      <td>6111.0</td>\n",
       "      <td>2182.12</td>\n",
       "      <td>2017-08-01</td>\n",
       "    </tr>\n",
       "    <tr>\n",
       "      <th>22089</th>\n",
       "      <td>17051141</td>\n",
       "      <td>236793.0</td>\n",
       "      <td>0.0</td>\n",
       "      <td>0.0</td>\n",
       "      <td>NaN</td>\n",
       "      <td>6111.0</td>\n",
       "      <td>2515.50</td>\n",
       "      <td>2017-08-04</td>\n",
       "    </tr>\n",
       "    <tr>\n",
       "      <th>22212</th>\n",
       "      <td>13879515</td>\n",
       "      <td>308960.0</td>\n",
       "      <td>0.0</td>\n",
       "      <td>0.0</td>\n",
       "      <td>NaN</td>\n",
       "      <td>6059.0</td>\n",
       "      <td>3724.76</td>\n",
       "      <td>2017-08-07</td>\n",
       "    </tr>\n",
       "    <tr>\n",
       "      <th>22767</th>\n",
       "      <td>17292505</td>\n",
       "      <td>544456.0</td>\n",
       "      <td>0.0</td>\n",
       "      <td>0.0</td>\n",
       "      <td>NaN</td>\n",
       "      <td>6111.0</td>\n",
       "      <td>5794.66</td>\n",
       "      <td>2017-08-09</td>\n",
       "    </tr>\n",
       "    <tr>\n",
       "      <th>24404</th>\n",
       "      <td>14261521</td>\n",
       "      <td>131534.0</td>\n",
       "      <td>1.0</td>\n",
       "      <td>1.0</td>\n",
       "      <td>NaN</td>\n",
       "      <td>6059.0</td>\n",
       "      <td>1943.18</td>\n",
       "      <td>2017-08-16</td>\n",
       "    </tr>\n",
       "    <tr>\n",
       "      <th>24424</th>\n",
       "      <td>14316896</td>\n",
       "      <td>165899.0</td>\n",
       "      <td>1.0</td>\n",
       "      <td>1.0</td>\n",
       "      <td>NaN</td>\n",
       "      <td>6059.0</td>\n",
       "      <td>2219.24</td>\n",
       "      <td>2017-08-16</td>\n",
       "    </tr>\n",
       "    <tr>\n",
       "      <th>25505</th>\n",
       "      <td>11669289</td>\n",
       "      <td>3489309.0</td>\n",
       "      <td>0.0</td>\n",
       "      <td>0.0</td>\n",
       "      <td>NaN</td>\n",
       "      <td>6037.0</td>\n",
       "      <td>41644.78</td>\n",
       "      <td>2017-08-22</td>\n",
       "    </tr>\n",
       "    <tr>\n",
       "      <th>27288</th>\n",
       "      <td>14434158</td>\n",
       "      <td>3248800.0</td>\n",
       "      <td>0.0</td>\n",
       "      <td>0.0</td>\n",
       "      <td>NaN</td>\n",
       "      <td>6059.0</td>\n",
       "      <td>34649.96</td>\n",
       "      <td>2017-08-30</td>\n",
       "    </tr>\n",
       "    <tr>\n",
       "      <th>27473</th>\n",
       "      <td>14341510</td>\n",
       "      <td>327761.0</td>\n",
       "      <td>0.0</td>\n",
       "      <td>0.0</td>\n",
       "      <td>NaN</td>\n",
       "      <td>6059.0</td>\n",
       "      <td>7805.24</td>\n",
       "      <td>2017-08-30</td>\n",
       "    </tr>\n",
       "  </tbody>\n",
       "</table>\n",
       "</div>"
      ],
      "text/plain": [
       "       parcel_id  tax_value  bathroom_cnt  bedroom_cnt  sqft_calculated  \\\n",
       "54      14430658  5346951.0           0.0          0.0              NaN   \n",
       "325     14466991  2493444.0           0.0          0.0              NaN   \n",
       "968     13972530   270009.0           0.0          0.0              NaN   \n",
       "969     14325627  7074075.0           0.0          0.0              NaN   \n",
       "988     12686981  5461875.0           0.0          0.0              NaN   \n",
       "2679    12131538   225126.0           0.0          0.0              NaN   \n",
       "4148    17292027  3210155.0           0.0          0.0              NaN   \n",
       "5232    12920381   352000.0           2.0          3.0            944.0   \n",
       "5605    14430787  5126781.0           0.0          0.0              NaN   \n",
       "6637    17267536    26237.0           0.0          0.0              NaN   \n",
       "6994   167687839  1842678.0           0.0          0.0              NaN   \n",
       "8568    12528751  1289097.0           0.0          0.0              NaN   \n",
       "9011    14466726  1558090.0           0.0          0.0              NaN   \n",
       "9657    12055162   406100.0           0.0          0.0              NaN   \n",
       "9851    14326442  3136161.0           0.0          0.0              NaN   \n",
       "11074   14237996   626497.0           0.0          0.0              NaN   \n",
       "11304   14359299  1244873.0           0.0          0.0              NaN   \n",
       "11599   13889651   125714.0           0.0          0.0              NaN   \n",
       "11903   13889433  1941143.0           0.0          0.0              NaN   \n",
       "12189   13865064  2231097.0           0.0          0.0              NaN   \n",
       "12360   14469211   970000.0           0.0          0.0              NaN   \n",
       "12573   11496648   957014.0           0.0          0.0              NaN   \n",
       "13315   14166728  1608894.0           0.0          0.0              NaN   \n",
       "13847   11640641  2077940.0           0.0          0.0              NaN   \n",
       "13885   11486198   900820.0           0.0          0.0              NaN   \n",
       "15035   12179038   177668.0           0.0          0.0              NaN   \n",
       "15917   14334030  1352225.0           0.0          0.0              NaN   \n",
       "15923   17144925     7771.0           0.0          0.0              NaN   \n",
       "15942   14130381    71071.0           0.0          0.0              NaN   \n",
       "16309   13883088   297730.0           0.0          0.0              NaN   \n",
       "17731   11905745   393502.0           0.0          0.0              NaN   \n",
       "17999   13938095  2138324.0           0.0          0.0              NaN   \n",
       "18586   17061055  1397372.0           0.0          0.0              NaN   \n",
       "18935   12231506   315000.0           0.0          0.0              NaN   \n",
       "18974   14175793   257569.0           0.0          0.0              NaN   \n",
       "19043   17296474  1461048.0           4.5          5.0              NaN   \n",
       "20344   17188862   249000.0           0.0          0.0              NaN   \n",
       "20367   14435352   845521.0           0.0          0.0              NaN   \n",
       "20536   13982469  3587583.0           0.0          0.0              NaN   \n",
       "21175   14006983        NaN           2.0          4.0           1197.0   \n",
       "21551   17162301   186771.0           0.0          0.0              NaN   \n",
       "22089   17051141   236793.0           0.0          0.0              NaN   \n",
       "22212   13879515   308960.0           0.0          0.0              NaN   \n",
       "22767   17292505   544456.0           0.0          0.0              NaN   \n",
       "24404   14261521   131534.0           1.0          1.0              NaN   \n",
       "24424   14316896   165899.0           1.0          1.0              NaN   \n",
       "25505   11669289  3489309.0           0.0          0.0              NaN   \n",
       "27288   14434158  3248800.0           0.0          0.0              NaN   \n",
       "27473   14341510   327761.0           0.0          0.0              NaN   \n",
       "\n",
       "         fips  tax_amount transaction_date  \n",
       "54     6059.0    82484.04       2017-08-25  \n",
       "325    6059.0    25740.28       2017-05-01  \n",
       "968    6059.0     3230.88       2017-05-04  \n",
       "969    6059.0    81640.56       2017-05-04  \n",
       "988    6037.0    60905.26       2017-05-04  \n",
       "2679   6037.0     2736.14       2017-05-11  \n",
       "4148   6111.0    34159.22       2017-05-18  \n",
       "5232   6037.0         NaN       2017-05-24  \n",
       "5605   6059.0    80251.50       2017-05-25  \n",
       "6637   6111.0      302.94       2017-05-30  \n",
       "6994   6037.0    22045.81       2017-05-31  \n",
       "8568   6037.0    15056.50       2017-06-06  \n",
       "9011   6059.0    16239.54       2017-06-08  \n",
       "9657   6037.0     4526.60       2017-06-12  \n",
       "9851   6059.0    38260.82       2017-06-13  \n",
       "11074  6059.0     6951.30       2017-06-16  \n",
       "11304  6059.0    22416.08       2017-06-19  \n",
       "11599  6059.0     1339.68       2017-06-20  \n",
       "11903  6059.0    21343.18       2017-06-21  \n",
       "12189  6059.0    24296.84       2017-06-22  \n",
       "12360  6059.0    13389.68       2017-06-22  \n",
       "12573  6037.0    11241.43       2017-06-23  \n",
       "13315  6059.0    18203.58       2017-06-27  \n",
       "13847  6037.0    25594.26       2017-06-28  \n",
       "13885  6037.0    10627.31       2017-06-29  \n",
       "15035  6037.0     2182.49       2017-06-30  \n",
       "15917  6059.0    15068.84       2017-07-07  \n",
       "15923  6111.0      106.32       2017-07-07  \n",
       "15942  6059.0     1270.64       2017-07-07  \n",
       "16309  6059.0     3677.40       2017-07-07  \n",
       "17731  6037.0     4767.60       2017-07-14  \n",
       "17999  6059.0    22118.08       2017-07-17  \n",
       "18586  6111.0    14936.90       2017-07-19  \n",
       "18935  6037.0     3971.16       2017-07-20  \n",
       "18974  6059.0     2990.66       2017-07-20  \n",
       "19043  6111.0    15893.18       2017-07-21  \n",
       "20344  6111.0     2727.50       2017-07-27  \n",
       "20367  6059.0     8576.32       2017-07-27  \n",
       "20536  6059.0    37635.88       2017-07-28  \n",
       "21175  6059.0      388.18       2017-07-31  \n",
       "21551  6111.0     2182.12       2017-08-01  \n",
       "22089  6111.0     2515.50       2017-08-04  \n",
       "22212  6059.0     3724.76       2017-08-07  \n",
       "22767  6111.0     5794.66       2017-08-09  \n",
       "24404  6059.0     1943.18       2017-08-16  \n",
       "24424  6059.0     2219.24       2017-08-16  \n",
       "25505  6037.0    41644.78       2017-08-22  \n",
       "27288  6059.0    34649.96       2017-08-30  \n",
       "27473  6059.0     7805.24       2017-08-30  "
      ]
     },
     "execution_count": 10,
     "metadata": {},
     "output_type": "execute_result"
    }
   ],
   "source": [
    "# look at rows that have NaNs\n",
    "df[df.isna().any(axis=1)]"
   ]
  },
  {
   "cell_type": "code",
   "execution_count": 11,
   "id": "3d078824-74c3-4aea-a25c-82beeb4b58ba",
   "metadata": {},
   "outputs": [
    {
     "name": "stdout",
     "output_type": "stream",
     "text": [
      "There are 28124 total rows, 49 of which have NaN values.\n",
      "If we drop the rows with NaNs there should be 28075 rows left\n",
      "It's 0.17% of the data\n"
     ]
    }
   ],
   "source": [
    "total_rows = df.shape[0] \n",
    "rows_with_nans =  df[df.isna().any(axis=1)].shape[0]\n",
    "\n",
    "print(f'There are {total_rows} total rows, {rows_with_nans} of which have NaN values.')\n",
    "print(f'If we drop the rows with NaNs there should be {total_rows-rows_with_nans} rows left')\n",
    "print(f'It\\'s {rows_with_nans/total_rows:.2%} of the data')"
   ]
  },
  {
   "cell_type": "code",
   "execution_count": 12,
   "id": "92c6452c-006a-4f5e-ac44-6e28a236ae17",
   "metadata": {},
   "outputs": [
    {
     "data": {
      "text/plain": [
       "(28075, 8)"
      ]
     },
     "execution_count": 12,
     "metadata": {},
     "output_type": "execute_result"
    }
   ],
   "source": [
    "# Check to make sure numbers match up\n",
    "df.drop(df[df.isna().any(axis=1)].index).shape"
   ]
  },
  {
   "cell_type": "code",
   "execution_count": 13,
   "id": "10c3e586-ed7f-41d2-8e3f-d890e44579c9",
   "metadata": {},
   "outputs": [],
   "source": [
    "#drop the rows \n",
    "df.drop(df[df.isna().any(axis=1)].index, inplace=True)"
   ]
  },
  {
   "cell_type": "code",
   "execution_count": 14,
   "id": "5b1b9f04-fcb1-4f80-b40d-170878470617",
   "metadata": {},
   "outputs": [
    {
     "data": {
      "text/plain": [
       "(28075, 8)"
      ]
     },
     "execution_count": 14,
     "metadata": {},
     "output_type": "execute_result"
    }
   ],
   "source": [
    "# check to make sure it worked\n",
    "df.shape"
   ]
  },
  {
   "cell_type": "code",
   "execution_count": 15,
   "id": "e015df39-65b5-4d5c-b183-ebe9285da5f0",
   "metadata": {},
   "outputs": [
    {
     "name": "stdout",
     "output_type": "stream",
     "text": [
      "---------------\n",
      "There are 20 unique values in the bathroom_cnt column\n",
      "---------------\n",
      "There are 13 unique values in the bedroom_cnt column\n",
      "---------------\n",
      "There are 4055 unique values in the sqft_calculated column\n",
      "---------------\n",
      "There are 3 unique values in the fips column\n",
      "---------------\n",
      "There are 119 unique values in the transaction_date column\n"
     ]
    }
   ],
   "source": [
    "# look at unique values in each column\n",
    "for col in df.drop(columns=['parcel_id', 'tax_value', 'tax_amount']).columns:\n",
    "    print(f'---------------')\n",
    "    print(f'There are {df[col].nunique()} unique values in the {col} column')"
   ]
  },
  {
   "cell_type": "code",
   "execution_count": 16,
   "id": "b4ac9a54-e7cd-4873-9f73-4ad97d36544f",
   "metadata": {},
   "outputs": [
    {
     "data": {
      "text/plain": [
       "False    27668\n",
       "True       407\n",
       "Name: bedroom_cnt, dtype: int64"
      ]
     },
     "execution_count": 16,
     "metadata": {},
     "output_type": "execute_result"
    }
   ],
   "source": [
    "# single family homes are sometimes defined as houses that don't have more than 5 bedrooms\n",
    "# filter to see how many we have above that\n",
    "(df['bedroom_cnt']  > 5).value_counts()"
   ]
  },
  {
   "cell_type": "code",
   "execution_count": 17,
   "id": "e60aac78-b803-4e42-b44c-40e2acc51094",
   "metadata": {},
   "outputs": [
    {
     "data": {
      "text/plain": [
       "3.0     12551\n",
       "4.0      8287\n",
       "2.0      4348\n",
       "5.0      2141\n",
       "6.0       340\n",
       "1.0       311\n",
       "7.0        50\n",
       "0.0        30\n",
       "8.0         7\n",
       "9.0         4\n",
       "12.0        3\n",
       "10.0        2\n",
       "11.0        1\n",
       "Name: bedroom_cnt, dtype: int64"
      ]
     },
     "execution_count": 17,
     "metadata": {},
     "output_type": "execute_result"
    }
   ],
   "source": [
    "df.bedroom_cnt.value_counts()"
   ]
  },
  {
   "cell_type": "markdown",
   "id": "f5026fb9-2f6d-4f67-a53b-2941c592bd66",
   "metadata": {},
   "source": [
    "#### Homes with more than 5 bedrooms\n",
    "- there are 407 homes with MORE than 5 bedrooms\n",
    "- won't get rid of them now but might be a good place to get rid of outliers\n",
    "\n",
    "Also saw here there are columns with 0 bed rooms need to get rid of those"
   ]
  },
  {
   "cell_type": "code",
   "execution_count": 18,
   "id": "b8a11b9c-0588-4882-9fc7-30e96fb08889",
   "metadata": {},
   "outputs": [
    {
     "data": {
      "text/html": [
       "<div>\n",
       "<style scoped>\n",
       "    .dataframe tbody tr th:only-of-type {\n",
       "        vertical-align: middle;\n",
       "    }\n",
       "\n",
       "    .dataframe tbody tr th {\n",
       "        vertical-align: top;\n",
       "    }\n",
       "\n",
       "    .dataframe thead th {\n",
       "        text-align: right;\n",
       "    }\n",
       "</style>\n",
       "<table border=\"1\" class=\"dataframe\">\n",
       "  <thead>\n",
       "    <tr style=\"text-align: right;\">\n",
       "      <th></th>\n",
       "      <th>parcel_id</th>\n",
       "      <th>tax_value</th>\n",
       "      <th>bathroom_cnt</th>\n",
       "      <th>bedroom_cnt</th>\n",
       "      <th>sqft_calculated</th>\n",
       "      <th>fips</th>\n",
       "      <th>tax_amount</th>\n",
       "      <th>transaction_date</th>\n",
       "    </tr>\n",
       "  </thead>\n",
       "  <tbody>\n",
       "    <tr>\n",
       "      <th>8</th>\n",
       "      <td>11696784</td>\n",
       "      <td>168828.0</td>\n",
       "      <td>0.0</td>\n",
       "      <td>0.0</td>\n",
       "      <td>1378.0</td>\n",
       "      <td>6037.0</td>\n",
       "      <td>2135.39</td>\n",
       "      <td>2017-06-16</td>\n",
       "    </tr>\n",
       "    <tr>\n",
       "      <th>231</th>\n",
       "      <td>11787436</td>\n",
       "      <td>188000.0</td>\n",
       "      <td>1.0</td>\n",
       "      <td>0.0</td>\n",
       "      <td>740.0</td>\n",
       "      <td>6037.0</td>\n",
       "      <td>2399.69</td>\n",
       "      <td>2017-05-01</td>\n",
       "    </tr>\n",
       "    <tr>\n",
       "      <th>253</th>\n",
       "      <td>11392193</td>\n",
       "      <td>101792.0</td>\n",
       "      <td>0.0</td>\n",
       "      <td>0.0</td>\n",
       "      <td>2276.0</td>\n",
       "      <td>6037.0</td>\n",
       "      <td>1609.95</td>\n",
       "      <td>2017-05-01</td>\n",
       "    </tr>\n",
       "    <tr>\n",
       "      <th>338</th>\n",
       "      <td>11266326</td>\n",
       "      <td>49627.0</td>\n",
       "      <td>0.0</td>\n",
       "      <td>0.0</td>\n",
       "      <td>400.0</td>\n",
       "      <td>6037.0</td>\n",
       "      <td>703.30</td>\n",
       "      <td>2017-05-01</td>\n",
       "    </tr>\n",
       "    <tr>\n",
       "      <th>793</th>\n",
       "      <td>11938527</td>\n",
       "      <td>319396.0</td>\n",
       "      <td>0.0</td>\n",
       "      <td>0.0</td>\n",
       "      <td>389.0</td>\n",
       "      <td>6037.0</td>\n",
       "      <td>4059.62</td>\n",
       "      <td>2017-05-03</td>\n",
       "    </tr>\n",
       "  </tbody>\n",
       "</table>\n",
       "</div>"
      ],
      "text/plain": [
       "     parcel_id  tax_value  bathroom_cnt  bedroom_cnt  sqft_calculated    fips  \\\n",
       "8     11696784   168828.0           0.0          0.0           1378.0  6037.0   \n",
       "231   11787436   188000.0           1.0          0.0            740.0  6037.0   \n",
       "253   11392193   101792.0           0.0          0.0           2276.0  6037.0   \n",
       "338   11266326    49627.0           0.0          0.0            400.0  6037.0   \n",
       "793   11938527   319396.0           0.0          0.0            389.0  6037.0   \n",
       "\n",
       "     tax_amount transaction_date  \n",
       "8       2135.39       2017-06-16  \n",
       "231     2399.69       2017-05-01  \n",
       "253     1609.95       2017-05-01  \n",
       "338      703.30       2017-05-01  \n",
       "793     4059.62       2017-05-03  "
      ]
     },
     "execution_count": 18,
     "metadata": {},
     "output_type": "execute_result"
    }
   ],
   "source": [
    "df[df.bedroom_cnt == 0].head()"
   ]
  },
  {
   "cell_type": "markdown",
   "id": "49f7634b-f5be-4d7a-a3c3-e3fc2618e2d0",
   "metadata": {},
   "source": [
    "#### 1 bathroom and 0 bedrooms with sqftage might be a studio! I will keep those in\n",
    "\n",
    "#### 0 Bathroom and 0 (or any number of) bedrooms with sqftage will be dropped. can't guess how many beds and bathrooms those have"
   ]
  },
  {
   "cell_type": "code",
   "execution_count": 19,
   "id": "4514bd14-090b-49fd-83c2-dab61db93042",
   "metadata": {},
   "outputs": [
    {
     "name": "stdout",
     "output_type": "stream",
     "text": [
      "There are 28075 total rows, 23 with 0 in the bathroom_cnt column.\n",
      "If we drop these rows there should be 28052 rows left\n",
      "It's 0.17% of the data\n"
     ]
    }
   ],
   "source": [
    "total_rows = df.shape[0] \n",
    "rows_with =  df[df.bathroom_cnt == 0].shape[0]\n",
    "\n",
    "print(f'There are {total_rows} total rows, {rows_with} with 0 in the bathroom_cnt column.')\n",
    "print(f'If we drop these rows there should be {total_rows-rows_with} rows left')\n",
    "print(f'It\\'s {rows_with_nans/total_rows:.2%} of the data')"
   ]
  },
  {
   "cell_type": "code",
   "execution_count": 20,
   "id": "2723fd98-e7b3-4961-b43a-2ced48abf9b4",
   "metadata": {},
   "outputs": [],
   "source": [
    "# drop the rows with the 0 bathroom count\n",
    "df.drop(df[df.bathroom_cnt == 0].index, inplace=True)"
   ]
  },
  {
   "cell_type": "code",
   "execution_count": 21,
   "id": "28d985eb-85c8-47fe-8f35-9c1e64d59e74",
   "metadata": {},
   "outputs": [
    {
     "data": {
      "text/plain": [
       "(28052, 8)"
      ]
     },
     "execution_count": 21,
     "metadata": {},
     "output_type": "execute_result"
    }
   ],
   "source": [
    "df.shape"
   ]
  },
  {
   "cell_type": "markdown",
   "id": "e893934b-1bc3-4434-bafc-e8b8dd39a6e1",
   "metadata": {},
   "source": [
    "### Target\n",
    "- tax_value\n",
    "\n",
    "### Variables \n",
    "#### Categorial variables:\n",
    "- fips\n",
    "- bedrooms\n",
    "- bathrooms \n",
    "\n",
    "#### Continous variables:\n",
    "- sqft_calculated\n",
    "- transaction_date \n",
    "\n",
    "#### Other\n",
    "- parcel_id - unique identifer\n",
    "- tax_amount - not used for modeling\n"
   ]
  },
  {
   "cell_type": "code",
   "execution_count": 22,
   "id": "e907fe50-906a-4ab6-9049-8194b16e7f8b",
   "metadata": {},
   "outputs": [],
   "source": [
    "# final test with wrangle.py function\n",
    "\n",
    "df = w.wrangle_zillow()"
   ]
  },
  {
   "cell_type": "code",
   "execution_count": 23,
   "id": "d356bd62-ec16-4d35-9ea4-cad8d32d9da1",
   "metadata": {},
   "outputs": [
    {
     "data": {
      "text/plain": [
       "(28052, 8)"
      ]
     },
     "execution_count": 23,
     "metadata": {},
     "output_type": "execute_result"
    }
   ],
   "source": [
    "# it worked, it has the correct shape\n",
    "\n",
    "df.shape"
   ]
  },
  {
   "cell_type": "markdown",
   "id": "31f8ecd0-18eb-491f-9503-a6714634fdf9",
   "metadata": {},
   "source": [
    "<hr style=\"border-top: 10px groove #1277e1; margin-top: 1px; margin-bottom: 1px\"></hr>\n",
    "\n",
    "## Explore \n",
    "#### Goals \n",
    "- Univariate exploration \n",
    "    - find and deal with outliers\n",
    "- train, validate, test split\n",
    "- Multivariate exploration\n",
    "- Vizualize relationship between variables and target\n",
    "- Find Drivers\n",
    "- State Hypotheses and run some Statistical Tests\n"
   ]
  },
  {
   "cell_type": "code",
   "execution_count": 79,
   "id": "d415928b-3719-4973-88e0-04c73c87c525",
   "metadata": {},
   "outputs": [
    {
     "data": {
      "image/png": "[encoded data removed]",
      "text/plain": [
       "<Figure size 1296x216 with 2 Axes>"
      ]
     },
     "metadata": {
      "needs_background": "light"
     },
     "output_type": "display_data"
    },
    {
     "data": {
      "image/png": "[encoded data removed]",
      "text/plain": [
       "<Figure size 1296x216 with 2 Axes>"
      ]
     },
     "metadata": {
      "needs_background": "light"
     },
     "output_type": "display_data"
    },
    {
     "data": {
      "image/png": "[encoded data removed]",
      "text/plain": [
       "<Figure size 1296x216 with 2 Axes>"
      ]
     },
     "metadata": {
      "needs_background": "light"
     },
     "output_type": "display_data"
    },
    {
     "data": {
      "image/png": "[encoded data removed]",
      "text/plain": [
       "<Figure size 1296x216 with 2 Axes>"
      ]
     },
     "metadata": {
      "needs_background": "light"
     },
     "output_type": "display_data"
    },
    {
     "data": {
      "image/png": "[encoded data removed]",
      "text/plain": [
       "<Figure size 1296x216 with 2 Axes>"
      ]
     },
     "metadata": {
      "needs_background": "light"
     },
     "output_type": "display_data"
    }
   ],
   "source": [
    "# use function from explore to look at distributions\n",
    "ex.explore_univariate(df.drop(columns=['parcel_id', 'transaction_date', 'tax_amount']))"
   ]
  },
  {
   "cell_type": "code",
   "execution_count": 65,
   "id": "a6401f9e-aea1-4f8c-94fb-4675466acbc3",
   "metadata": {},
   "outputs": [
    {
     "data": {
      "image/png": "[encoded data removed]",
      "text/plain": [
       "<Figure size 1800x360 with 1 Axes>"
      ]
     },
     "metadata": {
      "needs_background": "light"
     },
     "output_type": "display_data"
    }
   ],
   "source": [
    "# plot dates houses were sold\n",
    "plt.figure(figsize=(25, 5))\n",
    "plt.hist(df.transaction_date, lw = 1, ec = 'lightgrey')\n",
    "plt.xlabel('Date of Transaction', fontsize = 12)\n",
    "plt.ylabel('Num Houses Sold', fontsize = 12)\n",
    "plt.title('Number of houses sold from May 1 to August 31, 2017', fontsize = 16)\n",
    "plt.show()"
   ]
  },
  {
   "cell_type": "markdown",
   "id": "5d6c48b7-c616-4fe3-89dd-4ecebe70f9ac",
   "metadata": {},
   "source": [
    "### Takeaways\n",
    "- Need to drop outliers\n",
    "- most of the houses are in LA county (fips 6037)\n",
    "- The second half of June 2017 saw higher number of house sales"
   ]
  },
  {
   "cell_type": "code",
   "execution_count": 66,
   "id": "2b8edfff-904e-429f-8d08-d30ee45e51ec",
   "metadata": {},
   "outputs": [],
   "source": [
    "import scipy.stats as stats\n",
    "\n",
    "def remove_outlier(df):\n",
    "    df = df[(np.abs(stats.zscore(df)) < 3).all(axis=1)]\n",
    "    return df"
   ]
  },
  {
   "cell_type": "code",
   "execution_count": 71,
   "id": "114199b3-8382-4c79-a2ef-a5cf8661134e",
   "metadata": {},
   "outputs": [],
   "source": [
    "df_new = remove_outlier(df[['sqft_calculated', 'bedroom_cnt', 'bathroom_cnt']])"
   ]
  },
  {
   "cell_type": "code",
   "execution_count": 90,
   "id": "34bc6e30-8030-4165-a71c-2ab1f8e204a3",
   "metadata": {},
   "outputs": [
    {
     "name": "stdout",
     "output_type": "stream",
     "text": [
      "641 rows dropped\n"
     ]
    }
   ],
   "source": [
    "df.shape[0] - df_new.shape[0]\n",
    "print(f'{df.shape[0] - df_new.shape[0]} rows dropped')"
   ]
  },
  {
   "cell_type": "code",
   "execution_count": 76,
   "id": "8c8f1bb6-40c6-484b-a876-19fd88fb6d3d",
   "metadata": {},
   "outputs": [
    {
     "data": {
      "image/png": "[encoded data removed]",
      "text/plain": [
       "<Figure size 1296x216 with 2 Axes>"
      ]
     },
     "metadata": {
      "needs_background": "light"
     },
     "output_type": "display_data"
    },
    {
     "data": {
      "image/png": "[encoded data removed]",
      "text/plain": [
       "<Figure size 1296x216 with 2 Axes>"
      ]
     },
     "metadata": {
      "needs_background": "light"
     },
     "output_type": "display_data"
    },
    {
     "data": {
      "image/png": "[encoded data removed]",
      "text/plain": [
       "<Figure size 1296x216 with 2 Axes>"
      ]
     },
     "metadata": {
      "needs_background": "light"
     },
     "output_type": "display_data"
    }
   ],
   "source": [
    "ex.explore_univariate(df_new)"
   ]
  },
  {
   "cell_type": "markdown",
   "id": "7c759a64-8d8a-471d-9085-15ef4e006f1a",
   "metadata": {},
   "source": [
    "### Takeaways\n",
    "- After dropping outliers still a lot of outliers to deal with in sqft_calculated. will come back and deal with them later\n",
    "- Makes sense though. Lots of really expensive houses in LA, Orange County, and Ventura County\n",
    "- Maybe deal with outliers by scaling the data (using a non-linear scaler)\n",
    "- is it ok to use a non-linear scaler with the linear regression\n"
   ]
  },
  {
   "cell_type": "code",
   "execution_count": null,
   "id": "ef1870b7-c0dd-4fd0-9381-cf37b6d80ae6",
   "metadata": {},
   "outputs": [],
   "source": []
  },
  {
   "cell_type": "code",
   "execution_count": null,
   "id": "dff18db5-6404-493d-b37a-dc4ae07d2d03",
   "metadata": {},
   "outputs": [],
   "source": []
  },
  {
   "cell_type": "code",
   "execution_count": null,
   "id": "c7b2d4c1-81ee-425c-96ea-07a7ccdbb7b1",
   "metadata": {},
   "outputs": [],
   "source": []
  },
  {
   "cell_type": "code",
   "execution_count": null,
   "id": "2ae40c76-3d8d-40e2-bd00-9dc3d317c978",
   "metadata": {},
   "outputs": [],
   "source": []
  },
  {
   "cell_type": "code",
   "execution_count": null,
   "id": "928b427d-e92c-4465-8892-514bf65bb062",
   "metadata": {},
   "outputs": [],
   "source": []
  }
 ],
 "metadata": {
  "kernelspec": {
   "display_name": "Python 3",
   "language": "python",
   "name": "python3"
  },
  "language_info": {
   "codemirror_mode": {
    "name": "ipython",
    "version": 3
   },
   "file_extension": ".py",
   "mimetype": "text/x-python",
   "name": "python",
   "nbconvert_exporter": "python",
   "pygments_lexer": "ipython3",
   "version": "3.8.5"
  }
 },
 "nbformat": 4,
 "nbformat_minor": 5
}
